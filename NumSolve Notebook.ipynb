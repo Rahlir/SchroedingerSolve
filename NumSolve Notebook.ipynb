{
 "cells": [
  {
   "cell_type": "markdown",
   "metadata": {},
   "source": [
    "# Numerical solver for Schroedinger's equation."
   ]
  },
  {
   "cell_type": "code",
   "execution_count": 80,
   "metadata": {
    "collapsed": true
   },
   "outputs": [],
   "source": [
    "import math\n",
    "import matplotlib.pyplot as plt\n",
    "from matplotlib import rc\n",
    "from cycler import cycler\n",
    "\n",
    "%matplotlib inline\n",
    "\n",
    "rc('text', usetex=True)"
   ]
  },
  {
   "cell_type": "code",
   "execution_count": 3,
   "metadata": {
    "collapsed": true
   },
   "outputs": [],
   "source": [
    "def potential(position):\n",
    "    '''\n",
    "    A function used to return a potential. When u < 1.0, then potential is 0.\n",
    "    When u = 1.0, then potential is 1/2. And when u > 1.0, then potential is 1\n",
    "    '''\n",
    "    if position < 1 / 2:\n",
    "        return 0\n",
    "    elif position == 1 / 2:\n",
    "        return 1 / 2\n",
    "    return 1"
   ]
  },
  {
   "cell_type": "code",
   "execution_count": 4,
   "metadata": {
    "collapsed": true
   },
   "outputs": [],
   "source": [
    "def shooting(initwave, initderiv, energy, noofpoints):\n",
    "    '''\n",
    "    First function to be called when generating a new eigenfunction. Arguments are\n",
    "    used to specify initial conditions, energy epsilon, and number of points\n",
    "    (spacing)\n",
    "\n",
    "    :param initwave: Initial value for the wavefunction\n",
    "    :param initderiv: Initial value for the derivative\n",
    "    :param energy: Value for the energy eigenvalue\n",
    "    :param noofpoints: Number of points calculated\n",
    "    '''\n",
    "    # Initializing 3d array to store wave, derivatives, and position\n",
    "    wave = [[initwave], [initderiv], [0]]\n",
    "    # Calculate delta x based on number of points requested\n",
    "    delta = 3 / noofpoints\n",
    "    return generate(wave, energy, delta)"
   ]
  },
  {
   "cell_type": "code",
   "execution_count": 5,
   "metadata": {
    "collapsed": true
   },
   "outputs": [],
   "source": [
    "def generate(wave, energy, delta):\n",
    "    '''\n",
    "    Function that is actually performing all the calculations for the new\n",
    "    eigenfunction\n",
    "    '''\n",
    "    beta = 64\n",
    "\n",
    "    while wave[2][-1] <= 3:\n",
    "        # Equation 2 in code form\n",
    "        newwave = wave[0][-1] + delta * wave[1][-1]\n",
    "        # Equation 1 in code form\n",
    "        newder = wave[1][-1] - delta * beta * \\\n",
    "            (energy - potential(wave[2][-1])) * wave[0][-1]\n",
    "        wave[0].append(newwave)\n",
    "        wave[1].append(newder)\n",
    "        # Calculating new u and adding it to the position array\n",
    "        wave[2].append(wave[2][-1] + delta)\n",
    "    return wave"
   ]
  },
  {
   "cell_type": "code",
   "execution_count": 6,
   "metadata": {
    "collapsed": true
   },
   "outputs": [],
   "source": [
    "def areaunder(y_val, x_val, xmax):\n",
    "    '''\n",
    "    Function that returns the area under the graph of a mathematical\n",
    "    function passed as an argument. The area is calculated from x=0\n",
    "    to x=xmax\n",
    "    '''\n",
    "    area = 0\n",
    "    for i in range(0, len(y_val) - 1):\n",
    "        if x_val[i] < xmax:\n",
    "            # The middle value between to y data points is used\n",
    "            area += (y_val[i] + (y_val[i + 1] - y_val[i]) / 2) * \\\n",
    "                (x_val[i + 1] - x_val[i])\n",
    "    area = area * 2\n",
    "    print(\"Area \" + str(area))\n",
    "    return area"
   ]
  },
  {
   "cell_type": "code",
   "execution_count": 7,
   "metadata": {
    "collapsed": true
   },
   "outputs": [],
   "source": [
    "def probability(wave):\n",
    "    '''\n",
    "    Function returning probability distribution for a given real wave function\n",
    "    '''\n",
    "    return [x**2 for x in wave]"
   ]
  },
  {
   "cell_type": "code",
   "execution_count": 8,
   "metadata": {
    "collapsed": true
   },
   "outputs": [],
   "source": [
    "def normalization(wave):\n",
    "    '''\n",
    "    Function that returns normalized wave function by calculating overall probability\n",
    "    and dividing the wave function by this normalization constant\n",
    "    '''\n",
    "    # Calculating the probability distribution of the wave\n",
    "    probabilitydstr = probability(wave[0])\n",
    "    constant = 1 / math.sqrt(areaunder(probabilitydstr, wave[2], 4))\n",
    "    # List comprehension is used to divide all data points by the\n",
    "    # constant = 1/K from Equation 5\n",
    "    return [x * constant for x in wave[0]]"
   ]
  },
  {
   "cell_type": "code",
   "execution_count": 77,
   "metadata": {
    "collapsed": true
   },
   "outputs": [],
   "source": [
    "def ploteigenfcs(x_val, lines, title, file_name):\n",
    "    '''\n",
    "    Plots three different functions onto one figure. Currently the color used are\n",
    "    black, blue, red, magneto, cyan, and yellow\n",
    "    '''\n",
    "    plt.figure()\n",
    "    plt.rc('lines', linewidth=1.5)\n",
    "    plt.rc('axes', prop_cycle=cycler(\n",
    "        'color', ['k', 'b', 'r', 'g', 'm', 'c', 'y']))\n",
    "    for desc, y_vals in lines.items():\n",
    "        plt.plot(x_val, y_vals, label=desc)\n",
    "\n",
    "    ymax = 0\n",
    "    ymin = 0\n",
    "    for y_val in lines.values():\n",
    "        ymax = max(max(y_val), ymax)\n",
    "        ymin = min(min(y_val), ymin)\n",
    "    plt.ylim(ymin-0.1, ymax+0.1)\n",
    "    plt.xlim(0, 4)\n",
    "    plt.xlabel(r'Radius $u=r/a_{0}$')\n",
    "    plt.ylabel(r'Eigenfunction $\\psi(u)$')\n",
    "    plt.title(title, ha='center', fontsize=14)\n",
    "    plt.legend()\n",
    "    plt.grid()"
   ]
  },
  {
   "cell_type": "code",
   "execution_count": 78,
   "metadata": {
    "collapsed": true
   },
   "outputs": [],
   "source": [
    "def numerical_slv():\n",
    "    '''\n",
    "    Executes the numerical solver script and generates plots\n",
    "    '''\n",
    "    energy0 = 0.09802437  # Ground state energy\n",
    "    energy1 = 0.382721825  # First excited state energy\n",
    "    energy2 = 0.807895  # Second excited state energy\n",
    "    energy_unb = 2\n",
    "\n",
    "    eigenfc0 = shooting(1.0, 0, energy0, 6000)\n",
    "    eigenfc1 = shooting(0, 1.0, energy1, 6000)\n",
    "    eigenfc2 = shooting(1.0, 0, energy2, 6000)\n",
    "    # eigenfc_un = shooting(1.0, 1.0, energy_unb, 6000)\n",
    "\n",
    "    lines = {\n",
    "        'Ground State': normalization(eigenfc0),\n",
    "        'First Excited State': normalization(eigenfc1),\n",
    "        'Second Excited State': normalization(eigenfc2),\n",
    "        #'Unbound Energy': eigenfc_un[0]\n",
    "    }\n",
    "    \n",
    "    ploteigenfcs(eigenfc0[2], lines,\n",
    "                 r'\\textbf{Eigenfunctions vs Radial Distance}', 'test')"
   ]
  },
  {
   "cell_type": "code",
   "execution_count": 79,
   "metadata": {},
   "outputs": [
    {
     "name": "stdout",
     "output_type": "stream",
     "text": [
      "Area 0.6321817393489232\n",
      "Area 0.027024090565422633\n",
      "Area 0.7925728491265391\n"
     ]
    },
    {
     "data": {
      "image/png": "[encoded data removed]",
      "text/plain": [
       "<matplotlib.figure.Figure at 0x1105f0080>"
      ]
     },
     "metadata": {},
     "output_type": "display_data"
    }
   ],
   "source": [
    "numerical_slv()"
   ]
  },
  {
   "cell_type": "code",
   "execution_count": null,
   "metadata": {
    "collapsed": true
   },
   "outputs": [],
   "source": []
  }
 ],
 "metadata": {
  "kernelspec": {
   "display_name": "Python 3",
   "language": "python",
   "name": "python3"
  },
  "language_info": {
   "codemirror_mode": {
    "name": "ipython",
    "version": 3
   },
   "file_extension": ".py",
   "mimetype": "text/x-python",
   "name": "python",
   "nbconvert_exporter": "python",
   "pygments_lexer": "ipython3",
   "version": "3.6.2"
  }
 },
 "nbformat": 4,
 "nbformat_minor": 2
}
