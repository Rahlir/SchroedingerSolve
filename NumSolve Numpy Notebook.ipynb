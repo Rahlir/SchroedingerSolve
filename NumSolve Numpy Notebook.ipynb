{
 "cells": [
  {
   "cell_type": "markdown",
   "metadata": {},
   "source": [
    "# Numerical solver for Schroedinger's equation.\n",
    "## Numpy Update"
   ]
  },
  {
   "cell_type": "code",
   "execution_count": 113,
   "metadata": {
    "collapsed": true
   },
   "outputs": [],
   "source": [
    "import math\n",
    "import numpy as np\n",
    "import matplotlib.pyplot as plt\n",
    "from matplotlib import rc\n",
    "from cycler import cycler\n",
    "\n",
    "%matplotlib inline\n",
    "\n",
    "rc('text', usetex=True)"
   ]
  },
  {
   "cell_type": "code",
   "execution_count": 114,
   "metadata": {
    "collapsed": true
   },
   "outputs": [],
   "source": [
    "def potential(position):\n",
    "    '''\n",
    "    A function used to return a potential. When u < 1.0, then potential is 0.\n",
    "    When u = 1.0, then potential is 1/2. And when u > 1.0, then potential is 1\n",
    "    '''\n",
    "    if position < 1 / 2:\n",
    "        return 0\n",
    "    elif position == 1 / 2:\n",
    "        return 1 / 2\n",
    "    return 1"
   ]
  },
  {
   "cell_type": "code",
   "execution_count": 115,
   "metadata": {
    "collapsed": true
   },
   "outputs": [],
   "source": [
    "def shooting(initwave, initderiv, energy, x_axis):\n",
    "    '''\n",
    "    First function to be called when generating a new eigenfunction. Arguments are\n",
    "    used to specify initial conditions, energy epsilon, and number of points\n",
    "    (spacing)\n",
    "\n",
    "    :param initwave: Initial value for the wavefunction\n",
    "    :param initderiv: Initial value for the derivative\n",
    "    :param energy: Value for the energy eigenvalue\n",
    "    :param noofpoints: Number of points calculated\n",
    "    '''\n",
    "    # Initializing 3d array to store wave, derivatives, and position\n",
    "    wave = np.zeros((2, x_axis.size))\n",
    "    wave[0][0] = initwave\n",
    "    wave[1][0] = initderiv\n",
    "    # Calculate delta x based on number of points requested\n",
    "    return generate(wave, x_axis, energy)"
   ]
  },
  {
   "cell_type": "code",
   "execution_count": 116,
   "metadata": {
    "collapsed": true
   },
   "outputs": [],
   "source": [
    "def generate(wave, xscale, energy):\n",
    "    '''\n",
    "    Function that is actually performing all the calculations for the new\n",
    "    eigenfunction\n",
    "    '''\n",
    "    beta = 64\n",
    "    delta = xscale[1] - xscale[0]\n",
    "\n",
    "    for i in range(1, wave[0].size):\n",
    "        # Equation 2 in code form\n",
    "        wave[0][i] = wave[0][i - 1] + delta * wave[1][i - 1]\n",
    "        # Equation 1 in code form\n",
    "        wave[1][i] = wave[1][i - 1] - delta * beta * \\\n",
    "            (energy - potential(xscale[i - 1])) * wave[0][i - 1]\n",
    "\n",
    "    return wave[0]"
   ]
  },
  {
   "cell_type": "code",
   "execution_count": 117,
   "metadata": {
    "collapsed": true
   },
   "outputs": [],
   "source": [
    "def areaunder(wave, x_axis, xmax=0):\n",
    "    '''\n",
    "    Function that returns the area under the graph of a mathematical\n",
    "    function passed as an argument. The area is calculated from x=0\n",
    "    to x=xmax\n",
    "    '''\n",
    "    if xmax == 0:\n",
    "        xmax = x_axis[-1]\n",
    "\n",
    "    # Calculating the probability distribution of the wave\n",
    "    y_val = probability(wave)\n",
    "    area = 0\n",
    "    for i in range(0, len(y_val) - 1):\n",
    "        if x_axis[i] < xmax:\n",
    "            # The middle value between to y data points is used\n",
    "            area += (y_val[i] + (y_val[i + 1] - y_val[i]) / 2) * \\\n",
    "                (x_axis[i + 1] - x_axis[i])\n",
    "    area = area * 2\n",
    "    print(\"Area \" + str(area))\n",
    "    return area"
   ]
  },
  {
   "cell_type": "code",
   "execution_count": 118,
   "metadata": {
    "collapsed": true
   },
   "outputs": [],
   "source": [
    "def probability(wave):\n",
    "    '''\n",
    "    Function returning probability distribution for a given real wave function\n",
    "    '''\n",
    "    return wave * wave"
   ]
  },
  {
   "cell_type": "code",
   "execution_count": 119,
   "metadata": {
    "collapsed": true
   },
   "outputs": [],
   "source": [
    "def normalization(wave, x_axis):\n",
    "    '''\n",
    "    Function that returns normalized wave function by calculating overall probability\n",
    "    and dividing the wave function by this normalization constant\n",
    "    '''\n",
    "    # TODO: automate xmax\n",
    "    constant = 1 / math.sqrt(areaunder(wave, x_axis, 3))\n",
    "    # List comprehension is used to divide all data points by the\n",
    "    # constant = 1/K from Equation 5\n",
    "    return wave * constant"
   ]
  },
  {
   "cell_type": "code",
   "execution_count": 120,
   "metadata": {
    "collapsed": true
   },
   "outputs": [],
   "source": [
    "def ploteigenfcs(x_axis, lines, title, file_name='', save=False):\n",
    "    '''\n",
    "    Plots three different functions onto one figure. Currently the color used are\n",
    "    black, blue, red, magneto, cyan, and yellow\n",
    "    '''\n",
    "    plt.figure()\n",
    "    plt.rc('lines', linewidth=1.5)\n",
    "    plt.rc('axes', prop_cycle=cycler(\n",
    "        'color', ['k', 'b', 'r', 'g', 'm', 'c', 'y']))\n",
    "    for desc, wave in lines.items():\n",
    "        plt.plot(x_axis, wave, label=desc)\n",
    "\n",
    "    ymax = 0\n",
    "    ymin = 0\n",
    "    for wave in lines.values():\n",
    "        ymax = np.maximum(np.amax(wave, axis=0), ymax)\n",
    "        ymin = np.minimum(np.amin(wave, axis=0), ymin)\n",
    "    plt.ylim(ymin, ymax)\n",
    "    plt.xlim(0, 4)\n",
    "    plt.xlabel(r'Radius $u=r/a_{0}$')\n",
    "    plt.ylabel(r'Eigenfunction $\\psi(u)$')\n",
    "    plt.title(title, ha='center', fontsize=14)\n",
    "    plt.legend()\n",
    "    plt.grid()\n",
    "    if save:\n",
    "        plt.savefig('files/' + str(file_name) + '.eps', format='eps',\n",
    "                    dpi=1000)  # Optional line: saves the plot as .eps file"
   ]
  },
  {
   "cell_type": "code",
   "execution_count": 121,
   "metadata": {
    "collapsed": true
   },
   "outputs": [],
   "source": [
    "def numerical_slv():\n",
    "    '''\n",
    "    Executes the numerical solver script and generates plots\n",
    "    '''\n",
    "    energy0 = 0.09799850486  # Ground state energy\n",
    "    energy1 = 0.38272399  # First excited state energy\n",
    "    energy2 = 0.807899  # Second excited state energy\n",
    "    energy_unb = 2\n",
    "\n",
    "    x_axis = np.linspace(0.0, 3.0, 6000)\n",
    "    eigenfc = shooting(1.0, 0, energy0, x_axis)\n",
    "    normalized = normalization(eigenfc, x_axis)\n",
    "    lines = {\n",
    "        'Ground State': normalized,\n",
    "    }\n",
    "    \n",
    "    ploteigenfcs(x_axis, lines,\n",
    "                 r'\\textbf{Eigenfunctions vs Radial Distance}')\n",
    "    plt.show()"
   ]
  },
  {
   "cell_type": "code",
   "execution_count": 122,
   "metadata": {},
   "outputs": [
    {
     "name": "stdout",
     "output_type": "stream",
     "text": [
      "Area 0.632047825302\n"
     ]
    },
    {
     "data": {
      "image/png": "[encoded data removed]",
      "text/plain": [
       "<matplotlib.figure.Figure at 0x11dbdbf60>"
      ]
     },
     "metadata": {},
     "output_type": "display_data"
    }
   ],
   "source": [
    "numerical_slv()"
   ]
  },
  {
   "cell_type": "code",
   "execution_count": null,
   "metadata": {
    "collapsed": true
   },
   "outputs": [],
   "source": []
  }
 ],
 "metadata": {
  "kernelspec": {
   "display_name": "Python 3",
   "language": "python",
   "name": "python3"
  },
  "language_info": {
   "codemirror_mode": {
    "name": "ipython",
    "version": 3
   },
   "file_extension": ".py",
   "mimetype": "text/x-python",
   "name": "python",
   "nbconvert_exporter": "python",
   "pygments_lexer": "ipython3",
   "version": "3.6.2"
  }
 },
 "nbformat": 4,
 "nbformat_minor": 2
}
